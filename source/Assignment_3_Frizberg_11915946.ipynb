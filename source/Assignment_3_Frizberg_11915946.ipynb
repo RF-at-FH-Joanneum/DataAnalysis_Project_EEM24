{
 "cells": [
  {
   "cell_type": "markdown",
   "metadata": {},
   "source": [
    "# Data Analysis Assignment 3\n",
    "**Due Date:** December 20, 2024, 11:59  \n",
    "**Total Points:** 100 + 20 bonus points\n",
    "\n",
    "## Copyright and Fair Use\n",
    "\n",
    "This material, no matter whether in printed or electronic form, may be used for personal and non-commercial educational use only. Any reproduction of this material, no matter whether as a whole or in parts, no matter whether in printed or in electronic form, requires explicit prior acceptance of the authors."
   ]
  },
  {
   "cell_type": "markdown",
   "metadata": {},
   "source": [
    "## Guidelines\n",
    "\n",
    "1. **DO NOT add or delete any cells (or modify cell IDs)**\n",
    "2. Complete code cells marked with `# YOUR CODE HERE`\n",
    "3. Comment or remove lines with `raise NotImplementedError()`\n",
    "4. Run all cells before submission to verify your solutions\n",
    "5. Submit Notebook (.ipynb file) on Moodle with filename using the correct format, e.g., **Assignment_3_JohnDoe_12345678.ipynb**"
   ]
  },
  {
   "cell_type": "markdown",
   "metadata": {},
   "source": [
    "# Part 1: Basic Probability Analysis\n",
    "\n",
    "## Initial Setup"
   ]
  },
  {
   "cell_type": "code",
   "execution_count": 1,
   "metadata": {},
   "outputs": [],
   "source": [
    "import numpy as np\n",
    "import pandas as pd\n",
    "import matplotlib.pyplot as plt\n",
    "import seaborn as sns\n",
    "from scipy import stats\n",
    "\n",
    "# Configure plotting\n",
    "# Set Seaborn style for better visualizations\n",
    "sns.set_style(\"whitegrid\")\n",
    "sns.set_context(\"notebook\", font_scale=1.2)\n",
    "plt.rcParams['figure.figsize'] = [10, 6]\n",
    "\n",
    "# Set random seed for reproducibility\n",
    "np.random.seed(42)"
   ]
  },
  {
   "cell_type": "markdown",
   "metadata": {},
   "source": [
    "### Exercise 1: Power Supply Testing (20 points)\n",
    "A power supply unit undergoes three types of tests:\n",
    "- Voltage stability test (success rate: 95%)\n",
    "- Load regulation test (success rate: 92%)\n",
    "- Temperature stress test (success rate: 88%)\n",
    "\n",
    "The power supply must pass all three tests to be certified. Tests are conducted independently.\n",
    "\n",
    "Calculate:\n",
    "1. Probability of a power supply passing certification (all tests)\n",
    "2. Probability of failing exactly one test\n",
    "3. Probability of failing at least two tests"
   ]
  },
  {
   "cell_type": "code",
   "execution_count": 2,
   "metadata": {},
   "outputs": [
    {
     "name": "stdout",
     "output_type": "stream",
     "text": [
      "passing all:  0.76912 \n",
      "failing ex. one:  0.21224 \n",
      "failing min two: 0.018640000000000004 \t\n"
     ]
    }
   ],
   "source": [
    "# Success\n",
    "p_voltage_success = 0.95\n",
    "p_load_success = 0.92\n",
    "p_temp_success = 0.88\n",
    "\n",
    "# Failure  (1 - success rate)\n",
    "p_voltage_fail = 1 - p_voltage_success\n",
    "p_load_fail = 1 - p_load_success\n",
    "p_temp_fail = 1 - p_temp_success\n",
    "\n",
    "# 1.\n",
    "p_all_pass = p_voltage_success * p_load_success * p_temp_success\n",
    "\n",
    "# 2.\n",
    "p_one_fail = (\n",
    "            p_voltage_fail    * p_load_success * p_temp_success + \n",
    "            p_voltage_success * p_load_fail    * p_temp_success + \n",
    "            p_voltage_success * p_load_success * p_temp_fail\n",
    "            )\n",
    "\n",
    "# 3.\n",
    "p_two_plus_fail = (\n",
    "    p_voltage_fail     * p_load_fail    * p_temp_success +  \n",
    "    p_voltage_fail     * p_load_success * p_temp_fail +  \n",
    "    p_voltage_success  * p_load_fail    * p_temp_fail +\n",
    "    p_voltage_fail     * p_load_fail    * p_temp_fail      \n",
    "    )\n",
    "\n",
    "print(\"passing all: \", p_all_pass,\"\\nfailing ex. one: \", p_one_fail,\"\\nfailing min two:\", p_two_plus_fail, \"\\t\")"
   ]
  },
  {
   "cell_type": "code",
   "execution_count": 3,
   "metadata": {},
   "outputs": [],
   "source": [
    "# Test cell\n",
    "assert isinstance(p_all_pass, float), \"p_all_pass must be a float\"\n",
    "assert isinstance(p_one_fail, float), \"p_one_fail must be a float\"\n",
    "assert isinstance(p_two_plus_fail, float), \"p_two_plus_fail must be a float\""
   ]
  },
  {
   "cell_type": "markdown",
   "metadata": {},
   "source": [
    "### Exercise 2: Test Coverage (30 points)\n",
    "In a test suite with 500 test cases:\n",
    "- 400 pass consistently\n",
    "- 60 fail intermittently\n",
    "- 40 fail consistently\n",
    "\n",
    "Calculate:\n",
    "1. Probability of randomly selecting a passing test\n",
    "2. Probability of selecting a consistently failing test given that a failed test was selected\n",
    "3. Create a probability tree diagram for test outcomes\n"
   ]
  },
  {
   "cell_type": "code",
   "execution_count": 4,
   "metadata": {},
   "outputs": [
    {
     "name": "stdout",
     "output_type": "stream",
     "text": [
      "rand sel passing:  0.8 Fail -> consist:  0.4\n"
     ]
    }
   ],
   "source": [
    "total_tests = 500\n",
    "pass_tests = 400\n",
    "intermittent_fail_tests = 60\n",
    "consistent_fail_tests = 40\n",
    "\n",
    "# 1.\n",
    "p_pass = pass_tests / total_tests\n",
    "p_fail = 1 - p_pass; # = (intermittent_fail_tests + consistent_fail_tests) / (total_tests)\n",
    "\n",
    "# 2. \n",
    "# P(Consistent | Any) = cons fails / total fails\n",
    "p_consistent_fail_given_fail = consistent_fail_tests / (intermittent_fail_tests + consistent_fail_tests)\n",
    "\n",
    "\n",
    "print(\"rand sel passing: \", p_pass,\"Fail -> consist: \", p_consistent_fail_given_fail)"
   ]
  },
  {
   "cell_type": "code",
   "execution_count": 5,
   "metadata": {},
   "outputs": [
    {
     "data": {
      "text/plain": [
       "'\\n───┬── Pass (400/500) \\n   |              \\n   └──Fail (100/500)   ───┬── Consistent Fail (40/100)\\n                          └── Intermittent Fail (60/100)\\n'"
      ]
     },
     "execution_count": 5,
     "metadata": {},
     "output_type": "execute_result"
    }
   ],
   "source": [
    "'''\n",
    "───┬── Pass (400/500) \n",
    "   |              \n",
    "   └──Fail (100/500)   ───┬── Consistent Fail (40/100)\n",
    "                          └── Intermittent Fail (60/100)\n",
    "'''"
   ]
  },
  {
   "cell_type": "code",
   "execution_count": 6,
   "metadata": {},
   "outputs": [],
   "source": [
    "# Test cell\n",
    "assert isinstance(p_pass, float), \"p_pass must be a float\"\n",
    "assert isinstance(p_consistent_fail_given_fail, float), \"p_consistent_fail_given_fail must be a float\"\n",
    "assert 0 <= p_pass <= 1, \"Probability must be between 0 and 1\"\n",
    "assert 0 <= p_consistent_fail_given_fail <= 1, \"Conditional probability must be between 0 and 1\"\n"
   ]
  },
  {
   "cell_type": "markdown",
   "metadata": {},
   "source": [
    "\n",
    "### Exercise 3: System Performance Analysis (20 points)\n",
    "We analyze when a test system is busy. From monitoring data we know:\n",
    "- 70% of test runs happen at night (between 8PM and 8AM)\n",
    "- 60% of all time slots show high system activity\n",
    "- 75% of night time slots show high system activity\n",
    "\n",
    "Calculate:\n",
    "1. If the system shows high activity, what's the probability it's night time? \n",
    "2. Are time of day (night/day) and system activity (high/low) independent events?\n"
   ]
  },
  {
   "cell_type": "code",
   "execution_count": 7,
   "metadata": {},
   "outputs": [
    {
     "name": "stdout",
     "output_type": "stream",
     "text": [
      "p(night | high):  0.8749999999999999\n",
      "are independent:  False\n"
     ]
    }
   ],
   "source": [
    "p_night = 0.7\n",
    "p_high_activity = 0.6\n",
    "p_high_given_night = 0.75\n",
    "\n",
    "# 1.  P(Night | High) \n",
    "p_night_given_high = (p_high_given_night * p_night) / p_high_activity\n",
    "\n",
    "# 2.  P(High | Night) =?= P(High)\n",
    "are_independent = p_high_given_night.hex() == p_high_activity.hex()  # https://docs.python.org/3/tutorial/floatingpoint.html\n",
    "\n",
    "print(\"p(night | high): \", p_night_given_high)\n",
    "print(\"independent: \", are_independent)\n"
   ]
  },
  {
   "cell_type": "code",
   "execution_count": 8,
   "metadata": {},
   "outputs": [],
   "source": [
    "# Test cell\n",
    "assert isinstance(p_night_given_high, float), \"p_night_given_high must be a float\"\n",
    "assert isinstance(are_independent, bool), \"are_independent must be a boolean\"\n",
    "assert 0 <= p_night_given_high <= 1, \"Probability must be between 0 and 1\""
   ]
  },
  {
   "cell_type": "markdown",
   "metadata": {},
   "source": [
    "## Part 2: Westermo Data Analysis\n",
    "\n",
    "### Exercise 4: Performance Metrics (30 points)\n",
    "Using the Westermo test system data (from Assignment 2), analyze:\n",
    "1. Probability of high system load exceeding 0.3 (30%)\n",
    "2. Conditional probability of high memory usage (>12%) given high system load\n",
    "3. Joint probability of high load AND high memory usage\n",
    "\n",
    "Note: Thresholds have been chosen based on typical system behavior and are specific to this case only."
   ]
  },
  {
   "cell_type": "code",
   "execution_count": 12,
   "metadata": {},
   "outputs": [
    {
     "name": "stdout",
     "output_type": "stream",
     "text": [
      "0.0001865910972722714\n",
      "True\n",
      "P(load-15m > 0.3): 0.009201273484238883\n",
      "P(memory > 12% | load-15m > 0.3): 0.0\n",
      "P(high load AND high memory): 0.0\n"
     ]
    }
   ],
   "source": [
    "# Load and prepare data\n",
    "df = pd.read_csv('system-1.csv')  # Load the data\n",
    "df['datetime'] = pd.to_datetime(df['timestamp'], unit='s')  # Convert timestamp to datetime\n",
    "df['memory_used_pct'] = (1 - df['sys-mem-available'] / df['sys-mem-total'])  #*100 Memory usage percentage !!! --- THIS WAS CHANGED --- !!!\n",
    "\n",
    "# 1. P(load > 30%)\n",
    "high_load = df['load-15m'] > 0.3 # Unit 2 -> \"Remove outliers using IQR method\" ... List of True/False values \n",
    "p_high_load = high_load.sum() / df['load-15m'].count()\n",
    "\n",
    "# 2. P(mem | load)\n",
    "high_memory = df['memory_used_pct'] > 0.12\n",
    "# P(mem > 12%)\n",
    "p_high_memory = high_memory.sum() / df['memory_used_pct'].count()\n",
    "\n",
    "print(p_high_memory)\n",
    "print(df['load-15m'].count() == df['memory_used_pct'].count())\n",
    "\n",
    "#P(mem ∩ load) / P(load) = P(mem | load)\n",
    "p_high_memory_given_load = ((high_memory & high_load).sum() / df['memory_used_pct'].count()) / p_high_load\n",
    "\n",
    "# 3.\n",
    "p_joint = (high_memory & high_load).sum() / df['memory_used_pct'].count()\n",
    "\n",
    "\n",
    "print(\"P(load-15m > 0.3):\", p_high_load)\n",
    "print(\"P(memory > 12% | load-15m > 0.3):\", p_high_memory_given_load)\n",
    "print(\"P(high load AND high memory):\", p_joint)\n"
   ]
  },
  {
   "cell_type": "code",
   "execution_count": 10,
   "metadata": {},
   "outputs": [],
   "source": [
    "# Test cell\n",
    "assert isinstance(p_high_load, float), \"p_high_load must be a float\"\n",
    "assert isinstance(p_high_memory_given_load, float), \"p_high_memory_given_load must be a float\"\n",
    "assert isinstance(p_joint, float), \"p_joint must be a float\""
   ]
  },
  {
   "cell_type": "markdown",
   "metadata": {},
   "source": [
    "# Bonus Exercise (20 points)\n",
    "\n",
    "We are using the original data in Exercise 4, instead of the preprocessed data generated in Assignment 2.\n",
    "\n",
    "Repeat Exercise 4 using the preprocessed data you generated in Assignment 2, and compare the results."
   ]
  },
  {
   "cell_type": "code",
   "execution_count": 11,
   "metadata": {},
   "outputs": [],
   "source": [
    "# YOUR CODE HERE"
   ]
  }
 ],
 "metadata": {
  "kernelspec": {
   "display_name": "base",
   "language": "python",
   "name": "python3"
  },
  "language_info": {
   "codemirror_mode": {
    "name": "ipython",
    "version": 3
   },
   "file_extension": ".py",
   "mimetype": "text/x-python",
   "name": "python",
   "nbconvert_exporter": "python",
   "pygments_lexer": "ipython3",
   "version": "3.12.7"
  }
 },
 "nbformat": 4,
 "nbformat_minor": 4
}
