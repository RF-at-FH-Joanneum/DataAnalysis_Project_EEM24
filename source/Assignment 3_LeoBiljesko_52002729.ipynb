{
 "cells": [
  {
   "cell_type": "markdown",
   "metadata": {},
   "source": [
    "# Data Analysis Assignment 3\n",
    "**Due Date:** December 20, 2024, 11:59  \n",
    "**Total Points:** 100 + 20 bonus points\n",
    "\n",
    "## Copyright and Fair Use\n",
    "\n",
    "This material, no matter whether in printed or electronic form, may be used for personal and non-commercial educational use only. Any reproduction of this material, no matter whether as a whole or in parts, no matter whether in printed or in electronic form, requires explicit prior acceptance of the authors."
   ]
  },
  {
   "cell_type": "markdown",
   "metadata": {},
   "source": [
    "## Guidelines\n",
    "\n",
    "1. **DO NOT add or delete any cells (or modify cell IDs)**\n",
    "2. Complete code cells marked with `# YOUR CODE HERE`\n",
    "3. Comment or remove lines with `raise NotImplementedError()`\n",
    "4. Run all cells before submission to verify your solutions\n",
    "5. Submit Notebook (.ipynb file) on Moodle with filename using the correct format, e.g., **Assignment_3_JohnDoe_12345678.ipynb**"
   ]
  },
  {
   "cell_type": "markdown",
   "metadata": {},
   "source": [
    "# Part 1: Basic Probability Analysis\n",
    "\n",
    "## Initial Setup"
   ]
  },
  {
   "cell_type": "code",
   "execution_count": 1,
   "metadata": {},
   "outputs": [],
   "source": [
    "import numpy as np\n",
    "import pandas as pd\n",
    "import matplotlib.pyplot as plt\n",
    "import seaborn as sns\n",
    "from scipy import stats\n",
    "\n",
    "# Configure plotting\n",
    "# Set Seaborn style for better visualizations\n",
    "sns.set_style(\"whitegrid\")\n",
    "sns.set_context(\"notebook\", font_scale=1.2)\n",
    "plt.rcParams['figure.figsize'] = [10, 6]\n",
    "\n",
    "# Set random seed for reproducibility\n",
    "np.random.seed(42)"
   ]
  },
  {
   "cell_type": "markdown",
   "metadata": {},
   "source": [
    "### Exercise 1: Power Supply Testing (20 points)\n",
    "A power supply unit undergoes three types of tests:\n",
    "- Voltage stability test (success rate: 95%)\n",
    "- Load regulation test (success rate: 92%)\n",
    "- Temperature stress test (success rate: 88%)\n",
    "\n",
    "The power supply must pass all three tests to be certified. Tests are conducted independently.\n",
    "\n",
    "Calculate:\n",
    "1. Probability of a power supply passing certification (all tests)\n",
    "2. Probability of failing exactly one test\n",
    "3. Probability of failing at least two tests"
   ]
  },
  {
   "cell_type": "code",
   "execution_count": 2,
   "metadata": {},
   "outputs": [
    {
     "name": "stdout",
     "output_type": "stream",
     "text": [
      "All pass: 0.76912\n",
      "One fail: 0.21224\n",
      "Two or more fail: 0.01864\n"
     ]
    }
   ],
   "source": [
    "# YOUR CODE HERE\n",
    "voltage_stability = 0.95\n",
    "load_regulation = 0.92\n",
    "temperature_stress = 0.88\n",
    "\n",
    "voltage_fail = 1 - voltage_stability\n",
    "load_fail = 1 - load_regulation\n",
    "temperature_fail = 1 - temperature_stress\n",
    "\n",
    "p_all_pass = voltage_stability * load_regulation * temperature_stress  # Probability of passing all tests\n",
    "p_one_fail = voltage_fail * load_regulation * temperature_stress + voltage_stability * load_fail * temperature_stress + temperature_fail * voltage_stability * load_regulation # Probability of exactly one test failing\n",
    "p_two_plus_fail =  voltage_fail * load_fail * temperature_stress + voltage_stability * load_fail * temperature_fail + temperature_fail * voltage_fail * load_regulation + voltage_fail * load_fail * temperature_fail# Probability of two or more tests failing\n",
    "\n",
    "print(\"All pass: \" + str(p_all_pass) + \"\\nOne fail: \" + str(p_one_fail) + \"\\nTwo or more fail: \" + str(p_two_plus_fail))\n"
   ]
  },
  {
   "cell_type": "code",
   "execution_count": 3,
   "metadata": {},
   "outputs": [],
   "source": [
    "# Test cell\n",
    "assert isinstance(p_all_pass, float), \"p_all_pass must be a float\"\n",
    "assert isinstance(p_one_fail, float), \"p_one_fail must be a float\"\n",
    "assert isinstance(p_two_plus_fail, float), \"p_two_plus_fail must be a float\""
   ]
  },
  {
   "cell_type": "markdown",
   "metadata": {},
   "source": [
    "### Exercise 2: Test Coverage (30 points)\n",
    "In a test suite with 500 test cases:\n",
    "- 400 pass consistently\n",
    "- 60 fail intermittently\n",
    "- 40 fail consistently\n",
    "\n",
    "Calculate:\n",
    "1. Probability of randomly selecting a passing test\n",
    "2. Probability of selecting a consistently failing test given that a failed test was selected\n",
    "3. Create a probability tree diagram for test outcomes\n"
   ]
  },
  {
   "cell_type": "code",
   "execution_count": 4,
   "metadata": {},
   "outputs": [
    {
     "name": "stdout",
     "output_type": "stream",
     "text": [
      "Pass: 0.8\n",
      "Consistent fail given fail: 0.4\n"
     ]
    }
   ],
   "source": [
    "# YOUR CODE HERE\n",
    "test_total = 500\n",
    "test_pass = 400\n",
    "intermittent = 60\n",
    "consistent = 40\n",
    "\n",
    "test_fail = test_total - test_pass\n",
    "\n",
    "p_pass = test_pass/test_total  # Probability of randomly selecting a passing test\n",
    "p_consistent_fail_given_fail = consistent/test_fail  # P(Consistent Fail | Any Fail)\n",
    "\n",
    "print(\"Pass: \" + str(p_pass) + \"\\nConsistent fail given fail: \" + str(p_consistent_fail_given_fail))"
   ]
  },
  {
   "cell_type": "code",
   "execution_count": 5,
   "metadata": {},
   "outputs": [],
   "source": [
    "# Example tree below from Unit 3. You can also create it using pen and paper and attach the photo here in a markdown cell.\n",
    "\n"
   ]
  },
  {
   "cell_type": "markdown",
   "metadata": {},
   "source": [
    "![Alt Text](Tree.png)"
   ]
  },
  {
   "cell_type": "code",
   "execution_count": 6,
   "metadata": {},
   "outputs": [],
   "source": [
    "# Test cell\n",
    "assert isinstance(p_pass, float), \"p_pass must be a float\"\n",
    "assert isinstance(p_consistent_fail_given_fail, float), \"p_consistent_fail_given_fail must be a float\"\n",
    "assert 0 <= p_pass <= 1, \"Probability must be between 0 and 1\"\n",
    "assert 0 <= p_consistent_fail_given_fail <= 1, \"Conditional probability must be between 0 and 1\"\n"
   ]
  },
  {
   "cell_type": "markdown",
   "metadata": {},
   "source": [
    "\n",
    "### Exercise 3: System Performance Analysis (20 points)\n",
    "We analyze when a test system is busy. From monitoring data we know:\n",
    "- 70% of test runs happen at night (between 8PM and 8AM)\n",
    "- 60% of all time slots show high system activity\n",
    "- 75% of night time slots show high system activity\n",
    "\n",
    "Calculate:\n",
    "1. If the system shows high activity, what's the probability it's night time? \n",
    "2. Are time of day (night/day) and system activity (high/low) independent events?\n"
   ]
  },
  {
   "cell_type": "code",
   "execution_count": 7,
   "metadata": {},
   "outputs": [
    {
     "name": "stdout",
     "output_type": "stream",
     "text": [
      "P(Night | High Activity): 0.8749999999999999\n",
      "Are the events independent?: False\n"
     ]
    }
   ],
   "source": [
    "# YOUR CODE HERE\n",
    "night_tests = 0.7\n",
    "high_activity_all_slots = 0.6\n",
    "high_activity_night_time_slots = 0.75\n",
    "\n",
    "# Calculate P(Night | High Activity)\n",
    "p_night_given_high = (high_activity_night_time_slots * night_tests) / high_activity_all_slots\n",
    "\n",
    "# Check independence\n",
    "# Events are independent if P(High Activity | Night) = P(High Activity)\n",
    "are_independent =  high_activity_night_time_slots == high_activity_all_slots # Boolean indicating independence (True/False)\n",
    "\n",
    "print(\"P(Night | High Activity):\", p_night_given_high)\n",
    "print(\"Are the events independent?:\", are_independent)\n"
   ]
  },
  {
   "cell_type": "code",
   "execution_count": 8,
   "metadata": {},
   "outputs": [],
   "source": [
    "# Test cell\n",
    "assert isinstance(p_night_given_high, float), \"p_night_given_high must be a float\"\n",
    "assert isinstance(are_independent, bool), \"are_independent must be a boolean\"\n",
    "assert 0 <= p_night_given_high <= 1, \"Probability must be between 0 and 1\""
   ]
  },
  {
   "cell_type": "markdown",
   "metadata": {},
   "source": [
    "## Part 2: Westermo Data Analysis\n",
    "\n",
    "### Exercise 4: Performance Metrics (30 points)\n",
    "Using the Westermo test system data (from Assignment 2), analyze:\n",
    "1. Probability of high system load exceeding 0.3 (30%)\n",
    "2. Conditional probability of high memory usage (>12%) given high system load\n",
    "3. Joint probability of high load AND high memory usage\n",
    "\n",
    "Note: Thresholds have been chosen based on typical system behavior and are specific to this case only."
   ]
  },
  {
   "cell_type": "code",
   "execution_count": 9,
   "metadata": {},
   "outputs": [
    {
     "name": "stdout",
     "output_type": "stream",
     "text": [
      "Values over 30%: 789\n",
      "Values over 12%: 16\n",
      "Total samples: 85749\n",
      "P(High Load): 0.009201273484238883\n",
      "P(High Memory | High Load): 0.0\n",
      "P(High Load AND High Memory): 0.0\n"
     ]
    }
   ],
   "source": [
    "df = pd.read_csv('system-1(1).csv') \n",
    "df['datetime'] = pd.to_datetime(df['timestamp'], unit='s')\n",
    "df['memory_used_pct'] = (1 - df['sys-mem-available'] / df['sys-mem-total']) * 100\n",
    "\n",
    "# Define thresholds\n",
    "high_load_condition = df['load-15m'] > 0.3  # Boolean\n",
    "count_load = (df['load-15m'] > 0.3).sum()\n",
    "print(\"Values over 30%: \" + str(count_load))\n",
    "\n",
    "high_memory_condition = df['memory_used_pct'] > 12\n",
    "count_memory = (df['memory_used_pct'] > 12).sum()\n",
    "print(\"Values over 12%: \" + str(count_memory))\n",
    "\n",
    "# Total number of samples\n",
    "total_samples = len(df)\n",
    "print(\"Total samples: \" + str(total_samples))\n",
    "\n",
    "# 1. P(High Load)\n",
    "high_load_count = high_load_condition.sum() # Sums all boolean 1 == number of rows greater than 0.3\n",
    "p_high_load = high_load_count / total_samples # number of rows greater than 0.3 over total\n",
    "\n",
    "# 2. P(High Memory | High Load)\n",
    "high_load_and_memory_count = ((high_load_condition) & (high_memory_condition)).sum() # Checks if in each row of load and memory condition, both are true\n",
    "\n",
    "\n",
    "p_high_memory_given_load = high_load_and_memory_count / high_load_count\n",
    "\n",
    "# 3. P(High Load AND High Memory)\n",
    "p_joint = high_load_and_memory_count / total_samples \n",
    "\n",
    "# Output results\n",
    "print(\"P(High Load):\", p_high_load)\n",
    "print(\"P(High Memory | High Load):\", p_high_memory_given_load)\n",
    "print(\"P(High Load AND High Memory):\", p_joint)"
   ]
  },
  {
   "cell_type": "code",
   "execution_count": 10,
   "metadata": {},
   "outputs": [],
   "source": [
    "# Test cell\n",
    "assert isinstance(p_high_load, float), \"p_high_load must be a float\"\n",
    "assert isinstance(p_high_memory_given_load, float), \"p_high_memory_given_load must be a float\"\n",
    "assert isinstance(p_joint, float), \"p_joint must be a float\""
   ]
  },
  {
   "cell_type": "markdown",
   "metadata": {},
   "source": [
    "# Bonus Exercise (20 points)\n",
    "\n",
    "We are using the original data in Exercise 4, instead of the preprocessed data generated in Assignment 2.\n",
    "\n",
    "Repeat Exercise 4 using the preprocessed data you generated in Assignment 2, and compare the results."
   ]
  },
  {
   "cell_type": "code",
   "execution_count": 11,
   "metadata": {},
   "outputs": [
    {
     "name": "stdout",
     "output_type": "stream",
     "text": [
      "P(High Load): 0.009177949597079849\n",
      "P(High Memory | High Load): 0.0\n",
      "P(High Load AND High Memory): 0.0\n"
     ]
    }
   ],
   "source": [
    "# YOUR CODE HERE\n",
    "df = pd.read_csv('cleaned_data.csv') # I have just used previous code, and generated cleaned_data.csv and read it here\n",
    "\n",
    "\n",
    "# Define thresholds\n",
    "high_load_condition = df['load-15m'] > 0.3  # Boolean\n",
    "high_memory_condition = df['memory_used_pct'] > 12 \n",
    "\n",
    "\n",
    "# Total number of samples\n",
    "total_samples = len(df)\n",
    "\n",
    "# 1. P(High Load)\n",
    "high_load_count = high_load_condition.sum() # Sums all boolean 1 == number of rows greater than 0.3\n",
    "p_high_load = high_load_count / total_samples # number of rows greater than 0.3 over total\n",
    "\n",
    "# 2. P(High Memory | High Load)\n",
    "high_load_and_memory_count = ((high_load_condition) * (high_memory_condition)).sum() \n",
    "\n",
    "p_high_memory_given_load = high_load_and_memory_count / high_load_count\n",
    "\n",
    "# 3. P(High Load AND High Memory)\n",
    "p_joint = high_load_and_memory_count / total_samples \n",
    "\n",
    "# Output results\n",
    "print(\"P(High Load):\", p_high_load)\n",
    "print(\"P(High Memory | High Load):\", p_high_memory_given_load)\n",
    "print(\"P(High Load AND High Memory):\", p_joint)\n",
    "\n",
    "# P(High Load) is the only one that differs, it is slightly lower than the original data"
   ]
  }
 ],
 "metadata": {
  "kernelspec": {
   "display_name": "Python",
   "language": "python",
   "name": "python3"
  },
  "language_info": {
   "codemirror_mode": {
    "name": "ipython",
    "version": 3
   },
   "file_extension": ".py",
   "mimetype": "text/x-python",
   "name": "python",
   "nbconvert_exporter": "python",
   "pygments_lexer": "ipython3",
   "version": "3.9.20"
  }
 },
 "nbformat": 4,
 "nbformat_minor": 4
}
